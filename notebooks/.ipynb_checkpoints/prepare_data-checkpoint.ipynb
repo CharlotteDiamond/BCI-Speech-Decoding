{
 "cells": [
  {
   "cell_type": "markdown",
   "metadata": {},
   "source": [
    "- prepare data in h5 formant\n",
    "    - ECoG\n",
    "    - Spec\n",
    "    - Waveform\n",
    "    - onset offset"
   ]
  },
  {
   "cell_type": "code",
   "execution_count": 2,
   "metadata": {},
   "outputs": [
    {
     "name": "stdout",
     "output_type": "stream",
     "text": [
      "\u001b[0m\u001b[38;5;33mmeta_data\u001b[0m/  \u001b[38;5;33mtrial_info\u001b[0m/\r\n"
     ]
    }
   ],
   "source": [
    "ls /scratch/xc1490/ECoG_Shared_Data/LD_data_extracted/"
   ]
  },
  {
   "cell_type": "code",
   "execution_count": 4,
   "metadata": {},
   "outputs": [
    {
     "name": "stdout",
     "output_type": "stream",
     "text": [
      "<KeysViewHDF5 ['T1_coordinate_alldateset', 'T1_coordinate_raw_alldateset', 'TestNum_cum', 'bad_samples_alldataset', 'baseline_alldataset', 'ecog_alldataset', 'ecog_alldataset_filtered', 'ecog_raw_alldataset', 'ecog_raw_alldataset_filtered', 'end_ind_alldataset', 'end_ind_re_alldataset', 'end_ind_re_valid_alldataset', 'end_ind_re_wave_alldataset', 'end_ind_re_wave_valid_alldataset', 'end_ind_valid_alldataset', 'end_ind_wave_alldataset', 'end_ind_wave_valid_alldataset', 'formant_re_alldataset', 'intensity_re_alldataset', 'label_alldataset', 'mask_prior_alldataset', 'mni_coordinate_alldateset', 'mni_coordinate_raw_alldateset', 'noisesample_alldataset', 'noisesample_re_alldataset', 'pitch_re_alldataset', 'regions_alldataset', 'spkr_alldataset', 'spkr_re_alldataset', 'start_ind_alldataset', 'start_ind_re_alldataset', 'start_ind_re_valid_alldataset', 'start_ind_re_wave_alldataset', 'start_ind_re_wave_valid_alldataset', 'start_ind_valid_alldataset', 'start_ind_wave_alldataset', 'start_ind_wave_valid_alldataset', 'wave_alldataset', 'wave_denoise_alldataset', 'wave_re_alldataset', 'wave_re_denoise_alldataset', 'wave_re_spec_alldataset', 'wave_re_spec_amp_alldataset', 'wave_re_spec_denoise_alldataset', 'wave_re_spec_denoise_amp_alldataset', 'wave_spec_alldataset', 'wave_spec_amp_alldataset', 'wave_spec_denoise_alldataset', 'wave_spec_denoise_amp_alldataset', 'word_alldataset']>\n"
     ]
    },
    {
     "name": "stderr",
     "output_type": "stream",
     "text": [
      "/ext3/miniconda3/lib/python3.7/site-packages/ipykernel_launcher.py:4: H5pyDeprecationWarning: The default file mode will change to 'r' (read-only) in h5py 3.0. To suppress this warning, pass the mode you need to h5py.File(), or set the global default h5.get_config().default_file_mode, or set the environment variable H5PY_DEFAULT_READONLY=1. Available modes are: 'r', 'r+', 'w', 'w-'/'x', 'a'. See the docs for details.\n",
      "  after removing the cwd from sys.path.\n"
     ]
    }
   ],
   "source": [
    "import h5py\n",
    "import numpy as np\n",
    "\n",
    "with h5py.File('/scratch/xc1490/ECoG_Shared_Data/LD_data_extracted/meta_data/NY869.h5') as hf:\n",
    "    print (hf.keys())"
   ]
  },
  {
   "cell_type": "code",
   "execution_count": null,
   "metadata": {},
   "outputs": [],
   "source": [
    "'TestNum_cum'"
   ]
  }
 ],
 "metadata": {
  "kernelspec": {
   "display_name": "Python 3",
   "language": "python",
   "name": "python3"
  },
  "language_info": {
   "codemirror_mode": {
    "name": "ipython",
    "version": 3
   },
   "file_extension": ".py",
   "mimetype": "text/x-python",
   "name": "python",
   "nbconvert_exporter": "python",
   "pygments_lexer": "ipython3",
   "version": "3.7.9"
  },
  "toc": {
   "base_numbering": 1,
   "nav_menu": {},
   "number_sections": true,
   "sideBar": true,
   "skip_h1_title": false,
   "title_cell": "Table of Contents",
   "title_sidebar": "Contents",
   "toc_cell": false,
   "toc_position": {},
   "toc_section_display": true,
   "toc_window_display": false
  }
 },
 "nbformat": 4,
 "nbformat_minor": 4
}
